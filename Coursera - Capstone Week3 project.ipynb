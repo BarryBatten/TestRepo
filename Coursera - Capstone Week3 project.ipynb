{
    "cells": [
        {
            "cell_type": "markdown",
            "metadata": {},
            "source": "# Peer-graded Assignment - Week 3\n\n## 1. Install the Beautiful Soup Package"
        },
        {
            "cell_type": "code",
            "execution_count": 1,
            "metadata": {},
            "outputs": [
                {
                    "name": "stdout",
                    "output_type": "stream",
                    "text": "Solving environment: done\n\n## Package Plan ##\n\n  environment location: /opt/conda/envs/Python36\n\n  added / updated specs: \n    - beautifulsoup4\n\n\nThe following packages will be downloaded:\n\n    package                    |            build\n    ---------------------------|-----------------\n    ca-certificates-2020.1.1   |                0         132 KB  anaconda\n    certifi-2020.4.5.1         |           py36_0         159 KB  anaconda\n    beautifulsoup4-4.8.2       |           py36_0         161 KB  anaconda\n    openssl-1.1.1              |       h7b6447c_0         5.0 MB  anaconda\n    ------------------------------------------------------------\n                                           Total:         5.5 MB\n\nThe following packages will be UPDATED:\n\n    beautifulsoup4:  4.7.1-py36_1      --> 4.8.2-py36_0      anaconda\n    ca-certificates: 2020.1.1-0        --> 2020.1.1-0        anaconda\n    certifi:         2020.4.5.1-py36_0 --> 2020.4.5.1-py36_0 anaconda\n    openssl:         1.1.1f-h7b6447c_0 --> 1.1.1-h7b6447c_0  anaconda\n\n\nDownloading and Extracting Packages\nca-certificates-2020 | 132 KB    | ##################################### | 100% \ncertifi-2020.4.5.1   | 159 KB    | ##################################### | 100% \nbeautifulsoup4-4.8.2 | 161 KB    | ##################################### | 100% \nopenssl-1.1.1        | 5.0 MB    | ##################################### | 100% \nPreparing transaction: done\nVerifying transaction: done\nExecuting transaction: done\n"
                }
            ],
            "source": "#Install Beautiful Soup \n!conda install -c anaconda beautifulsoup4"
        },
        {
            "cell_type": "markdown",
            "metadata": {},
            "source": "## 2. Import Beautiful Soup package to web scrape the Wikipedia Web page. Then carry out the following :\n\n- Read the web page then pass it to the Beautiful Soup html parser.\n- Find the table class in the html.\n- Iterate through the table rows stripping the text to remove newline characters.\n- Only add records where the Borough does NOT equal 'Not assigned' are added.\n- If the Neighborhood field is blank then assign it the same value as the Borough field. \n- Change the forward slash characters to commas in the Neigborhood field.\n- Create a dataframe.\n"
        },
        {
            "cell_type": "code",
            "execution_count": 44,
            "metadata": {},
            "outputs": [
                {
                    "data": {
                        "text/html": "<div>\n<style scoped>\n    .dataframe tbody tr th:only-of-type {\n        vertical-align: middle;\n    }\n\n    .dataframe tbody tr th {\n        vertical-align: top;\n    }\n\n    .dataframe thead th {\n        text-align: right;\n    }\n</style>\n<table border=\"1\" class=\"dataframe\">\n  <thead>\n    <tr style=\"text-align: right;\">\n      <th></th>\n      <th>PostalCode</th>\n      <th>Borough</th>\n      <th>Neighborhood</th>\n    </tr>\n  </thead>\n  <tbody>\n    <tr>\n      <th>0</th>\n      <td>M3A</td>\n      <td>North York</td>\n      <td>Parkwoods</td>\n    </tr>\n    <tr>\n      <th>1</th>\n      <td>M4A</td>\n      <td>North York</td>\n      <td>Victoria Village</td>\n    </tr>\n    <tr>\n      <th>2</th>\n      <td>M5A</td>\n      <td>Downtown Toronto</td>\n      <td>Regent Park, Harbourfront</td>\n    </tr>\n    <tr>\n      <th>3</th>\n      <td>M6A</td>\n      <td>North York</td>\n      <td>Lawrence Manor, Lawrence Heights</td>\n    </tr>\n    <tr>\n      <th>4</th>\n      <td>M7A</td>\n      <td>Downtown Toronto</td>\n      <td>Queen's Park, Ontario Provincial Government</td>\n    </tr>\n    <tr>\n      <th>5</th>\n      <td>M9A</td>\n      <td>Etobicoke</td>\n      <td>Islington Avenue</td>\n    </tr>\n    <tr>\n      <th>6</th>\n      <td>M1B</td>\n      <td>Scarborough</td>\n      <td>Malvern, Rouge</td>\n    </tr>\n    <tr>\n      <th>7</th>\n      <td>M3B</td>\n      <td>North York</td>\n      <td>Don Mills</td>\n    </tr>\n    <tr>\n      <th>8</th>\n      <td>M4B</td>\n      <td>East York</td>\n      <td>Parkview Hill, Woodbine Gardens</td>\n    </tr>\n    <tr>\n      <th>9</th>\n      <td>M5B</td>\n      <td>Downtown Toronto</td>\n      <td>Garden District, Ryerson</td>\n    </tr>\n  </tbody>\n</table>\n</div>",
                        "text/plain": "  PostalCode           Borough                                 Neighborhood\n0        M3A        North York                                    Parkwoods\n1        M4A        North York                             Victoria Village\n2        M5A  Downtown Toronto                    Regent Park, Harbourfront\n3        M6A        North York             Lawrence Manor, Lawrence Heights\n4        M7A  Downtown Toronto  Queen's Park, Ontario Provincial Government\n5        M9A         Etobicoke                             Islington Avenue\n6        M1B       Scarborough                               Malvern, Rouge\n7        M3B        North York                                    Don Mills\n8        M4B         East York              Parkview Hill, Woodbine Gardens\n9        M5B  Downtown Toronto                     Garden District, Ryerson"
                    },
                    "execution_count": 44,
                    "metadata": {},
                    "output_type": "execute_result"
                }
            ],
            "source": "from bs4 import BeautifulSoup\nimport requests\nimport pandas as pd\n\n#Request webpage\nsource = requests.get('https://en.wikipedia.org/wiki/List_of_postal_codes_of_Canada:_M').text\n\n#Parse webpage into beautifulsoup object\nsoup = BeautifulSoup(source,'html.parser')\n\n#Find the table of interest and read it into a dataframe\ntable = soup.find(\"table\",{\"class\":\"wikitable sortable\"})\n#df_all = pd.read_html(str(table))[0]\n\ntable_rows = table.find_all('tr')\npc_list=[]\nfor tr in table_rows:\n    td = tr.find_all('td')\n    pc_row=[]\n    pc_row = [tr.text.strip() for tr in td]\n    \n    \n    if len(pc_row) != 0:\n        # Replace forward slash with a comma in neighborhood field\n        pc_row[2] = pc_row[2].replace(' / ', ', ')\n        \n        # if Neighborhood field is blank assign the Borough value to it\n        if pc_row[2] == '':\n            pc_row[2] = pc_row[1]\n        \n        # do not add row if the Borough value equals Not assigned\n        if pc_row[1] != 'Not assigned':\n            pc_list.append(pc_row)    \n\n\n\ndf_pc = pd.DataFrame(pc_list,columns=[\"PostalCode\",\"Borough\",\"Neighborhood\"])\ndf_pc.head(10)\n"
        },
        {
            "cell_type": "markdown",
            "metadata": {},
            "source": "## 3. Print the number of rows"
        },
        {
            "cell_type": "code",
            "execution_count": 45,
            "metadata": {},
            "outputs": [
                {
                    "name": "stdout",
                    "output_type": "stream",
                    "text": "No of Rows : 103\n"
                }
            ],
            "source": "print('No of Rows :', df_pc.shape[0])"
        },
        {
            "cell_type": "code",
            "execution_count": null,
            "metadata": {},
            "outputs": [],
            "source": ""
        },
        {
            "cell_type": "code",
            "execution_count": null,
            "metadata": {},
            "outputs": [],
            "source": ""
        }
    ],
    "metadata": {
        "kernelspec": {
            "display_name": "Python 3.6",
            "language": "python",
            "name": "python3"
        },
        "language_info": {
            "codemirror_mode": {
                "name": "ipython",
                "version": 3
            },
            "file_extension": ".py",
            "mimetype": "text/x-python",
            "name": "python",
            "nbconvert_exporter": "python",
            "pygments_lexer": "ipython3",
            "version": "3.6.9"
        }
    },
    "nbformat": 4,
    "nbformat_minor": 1
}